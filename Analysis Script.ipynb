{
 "cells": [
  {
   "attachments": {},
   "cell_type": "markdown",
   "metadata": {},
   "source": [
    "# Music Analysis Script\n",
    "Multiple different libraries were tested in order to determine the most suitable for the use in the project. A combination of pretty_midi and librosa will both be used in order to access and analyse the midi data. This analysis will later be used to compare the output of the neural network to determine simularities and difference in original and new production. It is this comparison that will help determine whether or not the project has been a success. Matplotlib and other libraries will be used in order to present the information in an appropriate way and help us ensure the results are as accurate as possible."
   ]
  },
  {
   "cell_type": "code",
   "execution_count": 94,
   "metadata": {},
   "outputs": [],
   "source": [
    "import pretty_midi as pm\n",
    "import librosa\n",
    "from datetime import timedelta\n",
    "import matplotlib.pyplot as plt"
   ]
  },
  {
   "attachments": {},
   "cell_type": "markdown",
   "metadata": {},
   "source": [
    "This is a test cell that I used to get the correct format for determining the time signature of a singular midi file. This format will be used to loop through the midi files and provide an overview of all time signatures used. "
   ]
  },
  {
   "cell_type": "code",
   "execution_count": 17,
   "metadata": {},
   "outputs": [
    {
     "data": {
      "text/plain": [
       "'4/4'"
      ]
     },
     "execution_count": 17,
     "metadata": {},
     "output_type": "execute_result"
    }
   ],
   "source": [
    "midi  = pm.PrettyMIDI(\"E:\\Music Generation\\MIDI Files\\Stairway to Heaven.mid\")\n",
    "midi_time_signature = str(midi.time_signature_changes[0].numerator) + \"/\" + str(midi.time_signature_changes[0].denominator)\n",
    "midi_time_signature"
   ]
  },
  {
   "attachments": {},
   "cell_type": "markdown",
   "metadata": {},
   "source": [
    "This creates a list of all time signatures used in  a single midi file. A dictionary can be used to create a full store of each song and time signatures. This could also extract all time signatures to determine those used through all songs"
   ]
  },
  {
   "cell_type": "code",
   "execution_count": 26,
   "metadata": {},
   "outputs": [
    {
     "data": {
      "text/plain": [
       "['4/4', '7/8', '9/8']"
      ]
     },
     "execution_count": 26,
     "metadata": {},
     "output_type": "execute_result"
    }
   ],
   "source": [
    "create_time_signatures = []\n",
    "for i in midi.time_signature_changes:\n",
    "    create_time_signatures.append(str(i.numerator) + \"/\" + str(i.denominator))\n",
    "time_signatures = set(create_time_signatures)\n",
    "list(time_signatures)"
   ]
  },
  {
   "attachments": {},
   "cell_type": "markdown",
   "metadata": {},
   "source": [
    "This is same function but for key signature"
   ]
  },
  {
   "cell_type": "code",
   "execution_count": 31,
   "metadata": {},
   "outputs": [
    {
     "data": {
      "text/plain": [
       "'C Major'"
      ]
     },
     "execution_count": 31,
     "metadata": {},
     "output_type": "execute_result"
    }
   ],
   "source": [
    "midi.key_signature_changes\n",
    "key_name = pm.key_number_to_key_name(midi.key_signature_changes[0].key_number)\n",
    "key_name"
   ]
  },
  {
   "attachments": {},
   "cell_type": "markdown",
   "metadata": {},
   "source": [
    "This is same function but for key signature"
   ]
  },
  {
   "cell_type": "code",
   "execution_count": 33,
   "metadata": {},
   "outputs": [
    {
     "data": {
      "text/plain": [
       "{'C Major'}"
      ]
     },
     "execution_count": 33,
     "metadata": {},
     "output_type": "execute_result"
    }
   ],
   "source": [
    "create_key_signatures = []\n",
    "for i in midi.key_signature_changes:\n",
    "    create_key_signatures.append(str(pm.key_number_to_key_name(i.key_number)))\n",
    "\n",
    "key_signatures = set(create_key_signatures)\n",
    "key_signatures"
   ]
  },
  {
   "attachments": {},
   "cell_type": "markdown",
   "metadata": {},
   "source": [
    "This will determine the length of each song in seconds and convert to minutes"
   ]
  },
  {
   "cell_type": "code",
   "execution_count": 52,
   "metadata": {},
   "outputs": [
    {
     "data": {
      "text/plain": [
       "'0:07:32.291310'"
      ]
     },
     "execution_count": 52,
     "metadata": {},
     "output_type": "execute_result"
    }
   ],
   "source": [
    "str(timedelta(seconds= midi.get_end_time()))"
   ]
  },
  {
   "attachments": {},
   "cell_type": "markdown",
   "metadata": {},
   "source": [
    "Creates a list of all instruments used in the track"
   ]
  },
  {
   "cell_type": "code",
   "execution_count": 81,
   "metadata": {},
   "outputs": [
    {
     "data": {
      "text/plain": [
       "['12 string guitar 1',\n",
       " '12 string guitar 2',\n",
       " '12 string guitar 3',\n",
       " 'acoustic guitar',\n",
       " 'bass',\n",
       " 'drum track',\n",
       " 'electric guitar',\n",
       " 'electric guitar 2',\n",
       " 'electric piano',\n",
       " 'guitar fret noise',\n",
       " 'melody (harmonica)',\n",
       " 'mute guitar',\n",
       " 'recorders 1&2',\n",
       " 'recorders 3&4']"
      ]
     },
     "execution_count": 81,
     "metadata": {},
     "output_type": "execute_result"
    }
   ],
   "source": [
    "midi.instruments\n",
    "get_instruments = []\n",
    "\n",
    "for i in midi.instruments:\n",
    "    get_instruments.append(str(i.name))\n",
    "\n",
    "instruments_set = set(get_instruments)\n",
    "\n",
    "instruments_list = [i.strip() for i in instruments_set]\n",
    "instruments_list.sort()\n",
    "instruments_list"
   ]
  },
  {
   "cell_type": "code",
   "execution_count": 100,
   "metadata": {},
   "outputs": [
    {
     "data": {
      "text/plain": [
       "<Figure size 800x400 with 0 Axes>"
      ]
     },
     "execution_count": 100,
     "metadata": {},
     "output_type": "execute_result"
    },
    {
     "data": {
      "image/png": "[encoded data removed]",
      "text/plain": [
       "<Figure size 640x480 with 1 Axes>"
      ]
     },
     "metadata": {},
     "output_type": "display_data"
    },
    {
     "data": {
      "text/plain": [
       "<Figure size 800x400 with 0 Axes>"
      ]
     },
     "metadata": {},
     "output_type": "display_data"
    }
   ],
   "source": [
    "librosa.display.specshow(midi.get_piano_roll())\n",
    "\n",
    "plt.figure(figsize=(8, 4))\n"
   ]
  }
 ],
 "metadata": {
  "kernelspec": {
   "display_name": "Python 3",
   "language": "python",
   "name": "python3"
  },
  "language_info": {
   "codemirror_mode": {
    "name": "ipython",
    "version": 3
   },
   "file_extension": ".py",
   "mimetype": "text/x-python",
   "name": "python",
   "nbconvert_exporter": "python",
   "pygments_lexer": "ipython3",
   "version": "3.10.10"
  },
  "orig_nbformat": 4,
  "vscode": {
   "interpreter": {
    "hash": "b1f30d3a3770a85a94f5338e5b281d56fdffaf6a4a30f6fa2d5a862e7dee8c95"
   }
  }
 },
 "nbformat": 4,
 "nbformat_minor": 2
}
